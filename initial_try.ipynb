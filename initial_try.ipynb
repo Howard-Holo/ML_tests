{
 "cells": [
  {
   "cell_type": "code",
   "execution_count": 1,
   "metadata": {},
   "outputs": [],
   "source": [
    "import pandas as pd\n",
    "import seaborn as sns"
   ]
  },
  {
   "cell_type": "code",
   "execution_count": 2,
   "metadata": {},
   "outputs": [],
   "source": [
    "def encode_str_label(_dataframe, _columnname):\n",
    "    from sklearn.preprocessing import LabelEncoder\n",
    "    _class_lb = LabelEncoder()\n",
    "    _dataframe['%s' % _columnname] = _class_lb.fit_transform(_dataframe['%s' % _columnname].values)\n",
    "\n",
    "\n",
    "def encode_str_labels(_dataframe, _labelList):\n",
    "    from sklearn.preprocessing import LabelEncoder\n",
    "    for _columnname in _labelList:\n",
    "        _class_lb = LabelEncoder()\n",
    "        _dataframe['%s' % _columnname] = _class_lb.fit_transform(_dataframe['%s' % _columnname].values)"
   ]
  },
  {
   "cell_type": "code",
   "execution_count": 3,
   "metadata": {},
   "outputs": [],
   "source": [
    "train_set = pd.read_csv(\"train.csv\")\n",
    "test_set = pd.read_csv(\"test.csv\")\n",
    "\n",
    "N_train = train_set.shape[0]\n",
    "N_test = test_set.shape[0]"
   ]
  },
  {
   "cell_type": "code",
   "execution_count": 4,
   "metadata": {},
   "outputs": [],
   "source": [
    "all_set = pd.concat((train_set.iloc[:, 1:], test_set.iloc[:, 1:]))\n",
    "str_set = all_set.dtypes[all_set.dtypes == 'object'].index\n",
    "numeric_set = all_set.dtypes[all_set.dtypes != 'object'].index\n",
    "all_set[numeric_set].apply(\n",
    "    lambda x: ((x - x.mean()) / x.std())\n",
    ")\n",
    "encode_str_labels(all_set, str_set)\n",
    "all_set = all_set.fillna(0)"
   ]
  },
  {
   "cell_type": "code",
   "execution_count": 5,
   "metadata": {},
   "outputs": [],
   "source": [
    "train_set = all_set.iloc[:N_train]\n",
    "test_set = all_set.iloc[N_train:,:-1]"
   ]
  },
  {
   "cell_type": "code",
   "execution_count": 6,
   "metadata": {},
   "outputs": [],
   "source": [
    "# initial judge between different models\n",
    "# train_set = train_set.sample(n=30000)\n",
    "X_train = train_set.iloc[:, :-1]\n",
    "y_train = train_set.iloc[:, -1]"
   ]
  },
  {
   "cell_type": "code",
   "execution_count": 7,
   "metadata": {},
   "outputs": [],
   "source": [
    "# # sample selection\n",
    "# X_train = X_train[[\"cat1\", \"cont11\", \"cont0\", \"cont5\", \"cont13\"]]"
   ]
  },
  {
   "cell_type": "code",
   "execution_count": 8,
   "metadata": {},
   "outputs": [],
   "source": [
    "from sklearn.model_selection import train_test_split\n",
    "X_train, X_validation, y_train, y_validation = train_test_split(X_train, y_train, train_size=0.8, random_state=1024)"
   ]
  },
  {
   "cell_type": "code",
   "execution_count": 9,
   "metadata": {},
   "outputs": [],
   "source": [
    "# # Grid Search CV\n",
    "# from sklearn.model_selection import GridSearchCV\n",
    "# from sklearn.ensemble import GradientBoostingRegressor\n",
    "\n",
    "# param_test1 = [{\n",
    "#     \"learning_rate\": [0.05, 0.1, 0.2]\n",
    "# #     \"max_depth\": range(10, 101, 10)\n",
    "# }]\n",
    "\n",
    "# # max_features, \"max_depth\": range(10, 101, 10), min_samples_split, min_samples_leaf\n",
    "\n",
    "# gsearch1 = GridSearchCV(\n",
    "#     estimator=GradientBoostingRegressor(), param_grid=param_test1, \n",
    "#     scoring='neg_root_mean_squared_error', \n",
    "#     cv=5, n_jobs=8, verbose=2\n",
    "# )\n",
    "# gsearch1.fit(X_train, y_train)\n",
    "\n",
    "# gsearch1.best_params_, gsearch1.best_score_"
   ]
  },
  {
   "cell_type": "code",
   "execution_count": 10,
   "metadata": {},
   "outputs": [],
   "source": [
    "# from sklearn.ensemble import GradientBoostingRegressor\n",
    "# model = GradientBoostingRegressor(learning_rate=0.2)\n",
    "# model.fit(X_train, y_train)"
   ]
  },
  {
   "cell_type": "code",
   "execution_count": 11,
   "metadata": {},
   "outputs": [],
   "source": [
    "# predict_val = model.predict(X_train)\n",
    "\n",
    "# # Model Performance on train\n",
    "# from sklearn.metrics import mean_squared_error, mean_absolute_error, r2_score\n",
    "# from math import sqrt\n",
    "# print(\"MSE%:\", mean_squared_error(y_train, predict_val) * 100)\n",
    "# print(\"MAE%:\", mean_absolute_error(y_train, predict_val) * 100)\n",
    "# print(\"R2%:\", r2_score(y_train, predict_val) * 100)\n",
    "# print(\"RMSE%:\", sqrt(mean_squared_error(y_train, predict_val)) * 100)"
   ]
  },
  {
   "cell_type": "code",
   "execution_count": 12,
   "metadata": {},
   "outputs": [],
   "source": [
    "# predict_val = model.predict(X_validation)\n",
    "\n",
    "# # Model Performance on validation\n",
    "# from sklearn.metrics import mean_squared_error, mean_absolute_error, r2_score\n",
    "# from math import sqrt\n",
    "# print(\"MSE%:\", mean_squared_error(y_validation, predict_val) * 100)\n",
    "# print(\"MAE%:\", mean_absolute_error(y_validation, predict_val) * 100)\n",
    "# print(\"R2%:\", r2_score(y_validation, predict_val) * 100)\n",
    "# print(\"RMSE%:\", sqrt(mean_squared_error(y_validation, predict_val)) * 100)"
   ]
  },
  {
   "cell_type": "code",
   "execution_count": 13,
   "metadata": {},
   "outputs": [],
   "source": [
    "# # Permutation Importance\n",
    "# import eli5\n",
    "# from eli5.sklearn import PermutationImportance\n",
    "\n",
    "# perm = PermutationImportance(model, random_state=1).fit(X_train, y_train)\n",
    "# eli5.show_weights(perm, feature_names = X_train.columns.tolist())"
   ]
  },
  {
   "cell_type": "code",
   "execution_count": 17,
   "metadata": {},
   "outputs": [
    {
     "name": "stdout",
     "output_type": "stream",
     "text": [
      "0.1 completed.\n",
      "0.2 completed.\n",
      "0.3 completed.\n",
      "0.4 completed.\n",
      "0.5 completed.\n",
      "0.6 completed.\n",
      "0.7 completed.\n",
      "0.8 completed.\n",
      "0.9 completed.\n",
      "1.0 completed.\n"
     ]
    }
   ],
   "source": [
    "# <1> for-loop selection: learning_rate. 0.1 ~ 1 / 0.1\n",
    "# score_list: [_lr, RMSE_train, RMSE_validation]\n",
    "from sklearn.ensemble import GradientBoostingRegressor\n",
    "from sklearn.metrics import mean_squared_error, mean_absolute_error, r2_score\n",
    "from math import sqrt\n",
    "\n",
    "score_list = []\n",
    "for _l in range(1, 11, 1):\n",
    "    _lr = _l / 10\n",
    "    model = GradientBoostingRegressor(learning_rate=_lr)\n",
    "    model.fit(X_train, y_train)\n",
    "    \n",
    "    predict_train = model.predict(X_train)\n",
    "    predict_val = model.predict(X_validation)\n",
    "\n",
    "    score_list.append([_lr, \n",
    "                       sqrt(mean_squared_error(y_train, predict_train)) * 100, \n",
    "                       \"Train\"\n",
    "                      ])\n",
    "    \n",
    "    score_list.append([_lr, \n",
    "                        sqrt(mean_squared_error(y_validation, predict_val)) * 100,\n",
    "                       \"Validation\"\n",
    "                      ])\n",
    "    print(_lr, \"completed.\")\n",
    "    \n",
    "    \n",
    "score_list = pd.DataFrame(score_list, columns=[\"lr\", \"RMSE\", \"RMSE_type\"])\n",
    "\n",
    "sns.set_theme(style=\"darkgrid\")\n",
    "sns.lineplot(x=\"lr\", y=\"RMSE\", hue=\"RMSE_type\", data=score_list)"
   ]
  },
  {
   "cell_type": "code",
   "execution_count": 18,
   "metadata": {},
   "outputs": [
    {
     "data": {
      "text/plain": [
       "<AxesSubplot:xlabel='lr', ylabel='RMSE'>"
      ]
     },
     "execution_count": 18,
     "metadata": {},
     "output_type": "execute_result"
    },
    {
     "data": {
      "image/png": "[encoded data removed]",
      "text/plain": [
       "<Figure size 432x288 with 1 Axes>"
      ]
     },
     "metadata": {},
     "output_type": "display_data"
    }
   ],
   "source": []
  },
  {
   "cell_type": "code",
   "execution_count": null,
   "metadata": {},
   "outputs": [],
   "source": []
  },
  {
   "cell_type": "code",
   "execution_count": 20,
   "metadata": {},
   "outputs": [
    {
     "name": "stdout",
     "output_type": "stream",
     "text": [
      "20 completed.\n",
      "30 completed.\n",
      "40 completed.\n",
      "50 completed.\n",
      "60 completed.\n",
      "70 completed.\n",
      "80 completed.\n",
      "90 completed.\n",
      "100 completed.\n"
     ]
    },
    {
     "ename": "ValueError",
     "evalue": "Could not interpret value `lr` for parameter `x`",
     "output_type": "error",
     "traceback": [
      "\u001b[0;31m---------------------------------------------------------------------------\u001b[0m",
      "\u001b[0;31mValueError\u001b[0m                                Traceback (most recent call last)",
      "\u001b[0;32m<ipython-input-20-4f0024d56c5b>\u001b[0m in \u001b[0;36m<module>\u001b[0;34m\u001b[0m\n\u001b[1;32m     27\u001b[0m \u001b[0;34m\u001b[0m\u001b[0m\n\u001b[1;32m     28\u001b[0m \u001b[0msns\u001b[0m\u001b[0;34m.\u001b[0m\u001b[0mset_theme\u001b[0m\u001b[0;34m(\u001b[0m\u001b[0mstyle\u001b[0m\u001b[0;34m=\u001b[0m\u001b[0;34m\"darkgrid\"\u001b[0m\u001b[0;34m)\u001b[0m\u001b[0;34m\u001b[0m\u001b[0;34m\u001b[0m\u001b[0m\n\u001b[0;32m---> 29\u001b[0;31m \u001b[0msns\u001b[0m\u001b[0;34m.\u001b[0m\u001b[0mlineplot\u001b[0m\u001b[0;34m(\u001b[0m\u001b[0mx\u001b[0m\u001b[0;34m=\u001b[0m\u001b[0;34m\"lr\"\u001b[0m\u001b[0;34m,\u001b[0m \u001b[0my\u001b[0m\u001b[0;34m=\u001b[0m\u001b[0;34m\"RMSE\"\u001b[0m\u001b[0;34m,\u001b[0m \u001b[0mhue\u001b[0m\u001b[0;34m=\u001b[0m\u001b[0;34m\"RMSE_type\"\u001b[0m\u001b[0;34m,\u001b[0m \u001b[0mdata\u001b[0m\u001b[0;34m=\u001b[0m\u001b[0mscore_list\u001b[0m\u001b[0;34m)\u001b[0m\u001b[0;34m\u001b[0m\u001b[0;34m\u001b[0m\u001b[0m\n\u001b[0m\u001b[1;32m     30\u001b[0m \u001b[0;34m\u001b[0m\u001b[0m\n",
      "\u001b[0;32m/Library/Frameworks/Python.framework/Versions/3.8/lib/python3.8/site-packages/seaborn/_decorators.py\u001b[0m in \u001b[0;36minner_f\u001b[0;34m(*args, **kwargs)\u001b[0m\n\u001b[1;32m     44\u001b[0m             )\n\u001b[1;32m     45\u001b[0m         \u001b[0mkwargs\u001b[0m\u001b[0;34m.\u001b[0m\u001b[0mupdate\u001b[0m\u001b[0;34m(\u001b[0m\u001b[0;34m{\u001b[0m\u001b[0mk\u001b[0m\u001b[0;34m:\u001b[0m \u001b[0marg\u001b[0m \u001b[0;32mfor\u001b[0m \u001b[0mk\u001b[0m\u001b[0;34m,\u001b[0m \u001b[0marg\u001b[0m \u001b[0;32min\u001b[0m \u001b[0mzip\u001b[0m\u001b[0;34m(\u001b[0m\u001b[0msig\u001b[0m\u001b[0;34m.\u001b[0m\u001b[0mparameters\u001b[0m\u001b[0;34m,\u001b[0m \u001b[0margs\u001b[0m\u001b[0;34m)\u001b[0m\u001b[0;34m}\u001b[0m\u001b[0;34m)\u001b[0m\u001b[0;34m\u001b[0m\u001b[0;34m\u001b[0m\u001b[0m\n\u001b[0;32m---> 46\u001b[0;31m         \u001b[0;32mreturn\u001b[0m \u001b[0mf\u001b[0m\u001b[0;34m(\u001b[0m\u001b[0;34m**\u001b[0m\u001b[0mkwargs\u001b[0m\u001b[0;34m)\u001b[0m\u001b[0;34m\u001b[0m\u001b[0;34m\u001b[0m\u001b[0m\n\u001b[0m\u001b[1;32m     47\u001b[0m     \u001b[0;32mreturn\u001b[0m \u001b[0minner_f\u001b[0m\u001b[0;34m\u001b[0m\u001b[0;34m\u001b[0m\u001b[0m\n\u001b[1;32m     48\u001b[0m \u001b[0;34m\u001b[0m\u001b[0m\n",
      "\u001b[0;32m/Library/Frameworks/Python.framework/Versions/3.8/lib/python3.8/site-packages/seaborn/relational.py\u001b[0m in \u001b[0;36mlineplot\u001b[0;34m(x, y, hue, size, style, data, palette, hue_order, hue_norm, sizes, size_order, size_norm, dashes, markers, style_order, units, estimator, ci, n_boot, seed, sort, err_style, err_kws, legend, ax, **kwargs)\u001b[0m\n\u001b[1;32m    683\u001b[0m \u001b[0;34m\u001b[0m\u001b[0m\n\u001b[1;32m    684\u001b[0m     \u001b[0mvariables\u001b[0m \u001b[0;34m=\u001b[0m \u001b[0m_LinePlotter\u001b[0m\u001b[0;34m.\u001b[0m\u001b[0mget_semantics\u001b[0m\u001b[0;34m(\u001b[0m\u001b[0mlocals\u001b[0m\u001b[0;34m(\u001b[0m\u001b[0;34m)\u001b[0m\u001b[0;34m)\u001b[0m\u001b[0;34m\u001b[0m\u001b[0;34m\u001b[0m\u001b[0m\n\u001b[0;32m--> 685\u001b[0;31m     p = _LinePlotter(\n\u001b[0m\u001b[1;32m    686\u001b[0m         \u001b[0mdata\u001b[0m\u001b[0;34m=\u001b[0m\u001b[0mdata\u001b[0m\u001b[0;34m,\u001b[0m \u001b[0mvariables\u001b[0m\u001b[0;34m=\u001b[0m\u001b[0mvariables\u001b[0m\u001b[0;34m,\u001b[0m\u001b[0;34m\u001b[0m\u001b[0;34m\u001b[0m\u001b[0m\n\u001b[1;32m    687\u001b[0m         \u001b[0mestimator\u001b[0m\u001b[0;34m=\u001b[0m\u001b[0mestimator\u001b[0m\u001b[0;34m,\u001b[0m \u001b[0mci\u001b[0m\u001b[0;34m=\u001b[0m\u001b[0mci\u001b[0m\u001b[0;34m,\u001b[0m \u001b[0mn_boot\u001b[0m\u001b[0;34m=\u001b[0m\u001b[0mn_boot\u001b[0m\u001b[0;34m,\u001b[0m \u001b[0mseed\u001b[0m\u001b[0;34m=\u001b[0m\u001b[0mseed\u001b[0m\u001b[0;34m,\u001b[0m\u001b[0;34m\u001b[0m\u001b[0;34m\u001b[0m\u001b[0m\n",
      "\u001b[0;32m/Library/Frameworks/Python.framework/Versions/3.8/lib/python3.8/site-packages/seaborn/relational.py\u001b[0m in \u001b[0;36m__init__\u001b[0;34m(self, data, variables, estimator, ci, n_boot, seed, sort, err_style, err_kws, legend)\u001b[0m\n\u001b[1;32m    365\u001b[0m         )\n\u001b[1;32m    366\u001b[0m \u001b[0;34m\u001b[0m\u001b[0m\n\u001b[0;32m--> 367\u001b[0;31m         \u001b[0msuper\u001b[0m\u001b[0;34m(\u001b[0m\u001b[0;34m)\u001b[0m\u001b[0;34m.\u001b[0m\u001b[0m__init__\u001b[0m\u001b[0;34m(\u001b[0m\u001b[0mdata\u001b[0m\u001b[0;34m=\u001b[0m\u001b[0mdata\u001b[0m\u001b[0;34m,\u001b[0m \u001b[0mvariables\u001b[0m\u001b[0;34m=\u001b[0m\u001b[0mvariables\u001b[0m\u001b[0;34m)\u001b[0m\u001b[0;34m\u001b[0m\u001b[0;34m\u001b[0m\u001b[0m\n\u001b[0m\u001b[1;32m    368\u001b[0m \u001b[0;34m\u001b[0m\u001b[0m\n\u001b[1;32m    369\u001b[0m         \u001b[0mself\u001b[0m\u001b[0;34m.\u001b[0m\u001b[0mestimator\u001b[0m \u001b[0;34m=\u001b[0m \u001b[0mestimator\u001b[0m\u001b[0;34m\u001b[0m\u001b[0;34m\u001b[0m\u001b[0m\n",
      "\u001b[0;32m/Library/Frameworks/Python.framework/Versions/3.8/lib/python3.8/site-packages/seaborn/_core.py\u001b[0m in \u001b[0;36m__init__\u001b[0;34m(self, data, variables)\u001b[0m\n\u001b[1;32m    602\u001b[0m     \u001b[0;32mdef\u001b[0m \u001b[0m__init__\u001b[0m\u001b[0;34m(\u001b[0m\u001b[0mself\u001b[0m\u001b[0;34m,\u001b[0m \u001b[0mdata\u001b[0m\u001b[0;34m=\u001b[0m\u001b[0;32mNone\u001b[0m\u001b[0;34m,\u001b[0m \u001b[0mvariables\u001b[0m\u001b[0;34m=\u001b[0m\u001b[0;34m{\u001b[0m\u001b[0;34m}\u001b[0m\u001b[0;34m)\u001b[0m\u001b[0;34m:\u001b[0m\u001b[0;34m\u001b[0m\u001b[0;34m\u001b[0m\u001b[0m\n\u001b[1;32m    603\u001b[0m \u001b[0;34m\u001b[0m\u001b[0m\n\u001b[0;32m--> 604\u001b[0;31m         \u001b[0mself\u001b[0m\u001b[0;34m.\u001b[0m\u001b[0massign_variables\u001b[0m\u001b[0;34m(\u001b[0m\u001b[0mdata\u001b[0m\u001b[0;34m,\u001b[0m \u001b[0mvariables\u001b[0m\u001b[0;34m)\u001b[0m\u001b[0;34m\u001b[0m\u001b[0;34m\u001b[0m\u001b[0m\n\u001b[0m\u001b[1;32m    605\u001b[0m \u001b[0;34m\u001b[0m\u001b[0m\n\u001b[1;32m    606\u001b[0m         \u001b[0;32mfor\u001b[0m \u001b[0mvar\u001b[0m\u001b[0;34m,\u001b[0m \u001b[0mcls\u001b[0m \u001b[0;32min\u001b[0m \u001b[0mself\u001b[0m\u001b[0;34m.\u001b[0m\u001b[0m_semantic_mappings\u001b[0m\u001b[0;34m.\u001b[0m\u001b[0mitems\u001b[0m\u001b[0;34m(\u001b[0m\u001b[0;34m)\u001b[0m\u001b[0;34m:\u001b[0m\u001b[0;34m\u001b[0m\u001b[0;34m\u001b[0m\u001b[0m\n",
      "\u001b[0;32m/Library/Frameworks/Python.framework/Versions/3.8/lib/python3.8/site-packages/seaborn/_core.py\u001b[0m in \u001b[0;36massign_variables\u001b[0;34m(self, data, variables)\u001b[0m\n\u001b[1;32m    665\u001b[0m         \u001b[0;32melse\u001b[0m\u001b[0;34m:\u001b[0m\u001b[0;34m\u001b[0m\u001b[0;34m\u001b[0m\u001b[0m\n\u001b[1;32m    666\u001b[0m             \u001b[0mself\u001b[0m\u001b[0;34m.\u001b[0m\u001b[0minput_format\u001b[0m \u001b[0;34m=\u001b[0m \u001b[0;34m\"long\"\u001b[0m\u001b[0;34m\u001b[0m\u001b[0;34m\u001b[0m\u001b[0m\n\u001b[0;32m--> 667\u001b[0;31m             plot_data, variables = self._assign_variables_longform(\n\u001b[0m\u001b[1;32m    668\u001b[0m                 \u001b[0mdata\u001b[0m\u001b[0;34m,\u001b[0m \u001b[0;34m**\u001b[0m\u001b[0mvariables\u001b[0m\u001b[0;34m,\u001b[0m\u001b[0;34m\u001b[0m\u001b[0;34m\u001b[0m\u001b[0m\n\u001b[1;32m    669\u001b[0m             )\n",
      "\u001b[0;32m/Library/Frameworks/Python.framework/Versions/3.8/lib/python3.8/site-packages/seaborn/_core.py\u001b[0m in \u001b[0;36m_assign_variables_longform\u001b[0;34m(self, data, **kwargs)\u001b[0m\n\u001b[1;32m    900\u001b[0m \u001b[0;34m\u001b[0m\u001b[0m\n\u001b[1;32m    901\u001b[0m                 \u001b[0merr\u001b[0m \u001b[0;34m=\u001b[0m \u001b[0;34mf\"Could not interpret value `{val}` for parameter `{key}`\"\u001b[0m\u001b[0;34m\u001b[0m\u001b[0;34m\u001b[0m\u001b[0m\n\u001b[0;32m--> 902\u001b[0;31m                 \u001b[0;32mraise\u001b[0m \u001b[0mValueError\u001b[0m\u001b[0;34m(\u001b[0m\u001b[0merr\u001b[0m\u001b[0;34m)\u001b[0m\u001b[0;34m\u001b[0m\u001b[0;34m\u001b[0m\u001b[0m\n\u001b[0m\u001b[1;32m    903\u001b[0m \u001b[0;34m\u001b[0m\u001b[0m\n\u001b[1;32m    904\u001b[0m             \u001b[0;32melse\u001b[0m\u001b[0;34m:\u001b[0m\u001b[0;34m\u001b[0m\u001b[0;34m\u001b[0m\u001b[0m\n",
      "\u001b[0;31mValueError\u001b[0m: Could not interpret value `lr` for parameter `x`"
     ]
    }
   ],
   "source": [
    "# <2> for-loop selection: n_estimator. 20 ~ 100 / 10\n",
    "# score_list: [_lr, RMSE_train, RMSE_validation]\n",
    "from sklearn.ensemble import GradientBoostingRegressor\n",
    "from sklearn.metrics import mean_squared_error, mean_absolute_error, r2_score\n",
    "from math import sqrt\n",
    "\n",
    "score_list = []\n",
    "for _n in range(20, 101, 10):\n",
    "    model = GradientBoostingRegressor(learning_rate=0.3, n_estimators = _n)\n",
    "    model.fit(X_train, y_train)\n",
    "    \n",
    "    predict_train = model.predict(X_train)\n",
    "    predict_val = model.predict(X_validation)\n",
    "\n",
    "    score_list.append([_n, \n",
    "                       sqrt(mean_squared_error(y_train, predict_train)) * 100, \n",
    "                       \"Train\"\n",
    "                      ])\n",
    "    \n",
    "    score_list.append([_n, \n",
    "                        sqrt(mean_squared_error(y_validation, predict_val)) * 100,\n",
    "                       \"Validation\"\n",
    "                      ])\n",
    "    print(_n, \"completed.\")\n",
    "    \n",
    "    \n"
   ]
  },
  {
   "cell_type": "code",
   "execution_count": 22,
   "metadata": {},
   "outputs": [
    {
     "data": {
      "text/plain": [
       "<AxesSubplot:xlabel='n_estimator', ylabel='RMSE'>"
      ]
     },
     "execution_count": 22,
     "metadata": {},
     "output_type": "execute_result"
    },
    {
     "data": {
      "image/png": "[encoded data removed]",
      "text/plain": [
       "<Figure size 432x288 with 1 Axes>"
      ]
     },
     "metadata": {},
     "output_type": "display_data"
    }
   ],
   "source": [
    "score_list = pd.DataFrame(score_list, columns=[\"n_estimator\", \"RMSE\", \"RMSE_type\"])\n",
    "\n",
    "sns.set_theme(style=\"darkgrid\")\n",
    "sns.lineplot(x=\"n_estimator\", y=\"RMSE\", hue=\"RMSE_type\", data=score_list)"
   ]
  },
  {
   "cell_type": "code",
   "execution_count": null,
   "metadata": {},
   "outputs": [],
   "source": [
    "# <3> for-loop selection: max_depth. 5 ~ 12 / 2\n",
    "\n",
    "# <4> for-loop selection: num_samples_split. 200 ~ 1000 / 200\n",
    "#     if num_samples_split is the sup, max_depth-- then refind num_samples_split and compare.\n",
    "\n",
    "# <5> for-loop selection: min_samples_leaf. 30 ~ 70 / 10\n",
    "#     can do again with num_samples_split with bigger space: 1000 ~ 2100 / 200\n",
    "#     then check the permutation importance to see whether upper features are clustered.\n",
    "\n",
    "# <6> for-loop selection: max_features. 7 ~ 19 / 2"
   ]
  },
  {
   "cell_type": "code",
   "execution_count": null,
   "metadata": {},
   "outputs": [],
   "source": [
    "predict_val = model.predict(test_set)"
   ]
  },
  {
   "cell_type": "code",
   "execution_count": 17,
   "metadata": {},
   "outputs": [],
   "source": [
    "test_set = pd.read_csv(\"test.csv\")\n",
    "test_set[\"target\"] = predict_val"
   ]
  },
  {
   "cell_type": "code",
   "execution_count": 18,
   "metadata": {},
   "outputs": [],
   "source": [
    "submission = pd.concat([test_set['id'], test_set['target']], axis=1)\n",
    "submission.to_csv(\"submission.csv\", index=False)"
   ]
  },
  {
   "cell_type": "code",
   "execution_count": null,
   "metadata": {},
   "outputs": [],
   "source": [
    "# import pandas as pd\n",
    "# import time\n",
    "# import multiprocessing\n",
    "# import seaborn\n",
    "# from sklearn.ensemble import GradientBoostingRegressor\n",
    "# from sklearn.metrics import mean_squared_error, mean_absolute_error, r2_score\n",
    "# from math import sqrt\n",
    "\n",
    "# num_process = 8\n",
    "\n",
    "# def encode_str_label(_dataframe, _columnname):\n",
    "#     from sklearn.preprocessing import LabelEncoder\n",
    "#     _class_lb = LabelEncoder()\n",
    "#     _dataframe['%s' % _columnname] = _class_lb.fit_transform(_dataframe['%s' % _columnname].values)\n",
    "# def encode_str_labels(_dataframe, _labelList):\n",
    "#     from sklearn.preprocessing import LabelEncoder\n",
    "#     for _columnname in _labelList:\n",
    "#         _class_lb = LabelEncoder()\n",
    "#         _dataframe['%s' % _columnname] = _class_lb.fit_transform(_dataframe['%s' % _columnname].values)\n",
    "\n",
    "\n",
    "# # def database_set(_train_data, _test_data):\n",
    "# #\n",
    "# #\n",
    "# #     return X_train, y_train\n",
    "\n",
    "\n",
    "# def _iterate_search(x):\n",
    "#     model = GradientBoostingRegressor(\n",
    "\n",
    "#     )\n",
    "#     model.fit(X_train, y_train)\n",
    "\n",
    "# if __name__ == \"__main__\":\n",
    "#     _start_time = time.time()\n",
    "\n",
    "#     train_set = pd.read_csv(\"train.csv\")\n",
    "#     test_set = pd.read_csv(\"test.csv\")\n",
    "\n",
    "#     N_train = train_set.shape[0]\n",
    "#     N_test = test_set.shape[0]\n",
    "\n",
    "#     all_set = pd.concat((train_set.iloc[:, 1:], test_set.iloc[:, 1:]))\n",
    "#     str_set = all_set.dtypes[all_set.dtypes == 'object'].index\n",
    "#     numeric_set = all_set.dtypes[all_set.dtypes != 'object'].index\n",
    "#     all_set[numeric_set].apply(\n",
    "#         lambda x: ((x - x.mean()) / x.std())\n",
    "#     )\n",
    "#     encode_str_labels(all_set, str_set)\n",
    "#     all_set = all_set.fillna(0)\n",
    "#     train_set = all_set.iloc[:N_train]\n",
    "#     test_set = all_set.iloc[N_train:, :-1]\n",
    "\n",
    "#     print(\"Dataset cleared. Time at:\", time.time() - _start_time)\n",
    "\n",
    "#     # initial judge between different models\n",
    "#     train_set = train_set.sample(n=30000)\n",
    "#     X_train = train_set.iloc[:, :-1]\n",
    "#     y_train = train_set.iloc[:, -1]\n",
    "\n",
    "#     # multiprocess to select hyperparameters.\n",
    "#     ts = []\n",
    "#     for j in range(1, num_process + 1):\n",
    "#         t = multiprocessing.Process(target=_iterate_search, args=(j,))\n",
    "#         t.start()\n",
    "#         ts.append(t)\n",
    "\n",
    "#     for t in ts:\n",
    "#         t.join()\n",
    "\n",
    "#     # draw the trend of RMSE on X_train and X_validation"
   ]
  }
 ],
 "metadata": {
  "kernelspec": {
   "display_name": "Python 3",
   "language": "python",
   "name": "python3"
  },
  "language_info": {
   "codemirror_mode": {
    "name": "ipython",
    "version": 3
   },
   "file_extension": ".py",
   "mimetype": "text/x-python",
   "name": "python",
   "nbconvert_exporter": "python",
   "pygments_lexer": "ipython3",
   "version": "3.8.6"
  }
 },
 "nbformat": 4,
 "nbformat_minor": 4
}
